{
 "cells": [
  {
   "cell_type": "markdown",
   "id": "061ad285",
   "metadata": {},
   "source": [
    "The sinking of the Titanic is one of the biggest maritime disaster in the history, killing 1502 out of 2224 passengers and the crew. One of the reasons for such loss was that there were not enough lifeboats. Some groups of people were more likely to survive than others, such as women, children, and the upper-class.\n",
    "Objective:\n",
    "•\n",
    "Use logistic regression to predict the survival of a given passenger based on features, such as sex, age"
   ]
  },
  {
   "cell_type": "code",
   "execution_count": null,
   "id": "94fb8dae",
   "metadata": {},
   "outputs": [],
   "source": [
    "#STEPS\n",
    "1. Read the data\n",
    "2. Address missing values\n",
    "3. Convert categorical to numeric values.\n",
    "4. Find the correlation between variables.\n",
    "5. Use logistic regression to predict survival.\n",
    "6. Evaluate the model using classification report."
   ]
  },
  {
   "cell_type": "code",
   "execution_count": 1,
   "id": "a59462a2",
   "metadata": {},
   "outputs": [],
   "source": [
    "import pandas as pd\n",
    "import matplotlib.pyplot as plt\n",
    "import seaborn as sns\n",
    "from sklearn import model_selection\n",
    "from sklearn.linear_model import LogisticRegression\n",
    "from sklearn import metrics\n"
   ]
  },
  {
   "cell_type": "code",
   "execution_count": 2,
   "id": "1d061f0c",
   "metadata": {},
   "outputs": [],
   "source": [
    "df = pd.read_csv('train.csv')"
   ]
  },
  {
   "cell_type": "code",
   "execution_count": 3,
   "id": "5480f489",
   "metadata": {},
   "outputs": [
    {
     "data": {
      "text/html": [
       "<div>\n",
       "<style scoped>\n",
       "    .dataframe tbody tr th:only-of-type {\n",
       "        vertical-align: middle;\n",
       "    }\n",
       "\n",
       "    .dataframe tbody tr th {\n",
       "        vertical-align: top;\n",
       "    }\n",
       "\n",
       "    .dataframe thead th {\n",
       "        text-align: right;\n",
       "    }\n",
       "</style>\n",
       "<table border=\"1\" class=\"dataframe\">\n",
       "  <thead>\n",
       "    <tr style=\"text-align: right;\">\n",
       "      <th></th>\n",
       "      <th>PassengerId</th>\n",
       "      <th>Survived</th>\n",
       "      <th>Pclass</th>\n",
       "      <th>Name</th>\n",
       "      <th>Sex</th>\n",
       "      <th>Age</th>\n",
       "      <th>SibSp</th>\n",
       "      <th>Parch</th>\n",
       "      <th>Ticket</th>\n",
       "      <th>Fare</th>\n",
       "      <th>Cabin</th>\n",
       "      <th>Embarked</th>\n",
       "    </tr>\n",
       "  </thead>\n",
       "  <tbody>\n",
       "    <tr>\n",
       "      <th>0</th>\n",
       "      <td>1</td>\n",
       "      <td>0</td>\n",
       "      <td>3</td>\n",
       "      <td>Braund, Mr. Owen Harris</td>\n",
       "      <td>male</td>\n",
       "      <td>22.0</td>\n",
       "      <td>1</td>\n",
       "      <td>0</td>\n",
       "      <td>A/5 21171</td>\n",
       "      <td>7.2500</td>\n",
       "      <td>NaN</td>\n",
       "      <td>S</td>\n",
       "    </tr>\n",
       "    <tr>\n",
       "      <th>1</th>\n",
       "      <td>2</td>\n",
       "      <td>1</td>\n",
       "      <td>1</td>\n",
       "      <td>Cumings, Mrs. John Bradley (Florence Briggs Th...</td>\n",
       "      <td>female</td>\n",
       "      <td>38.0</td>\n",
       "      <td>1</td>\n",
       "      <td>0</td>\n",
       "      <td>PC 17599</td>\n",
       "      <td>71.2833</td>\n",
       "      <td>C85</td>\n",
       "      <td>C</td>\n",
       "    </tr>\n",
       "    <tr>\n",
       "      <th>2</th>\n",
       "      <td>3</td>\n",
       "      <td>1</td>\n",
       "      <td>3</td>\n",
       "      <td>Heikkinen, Miss. Laina</td>\n",
       "      <td>female</td>\n",
       "      <td>26.0</td>\n",
       "      <td>0</td>\n",
       "      <td>0</td>\n",
       "      <td>STON/O2. 3101282</td>\n",
       "      <td>7.9250</td>\n",
       "      <td>NaN</td>\n",
       "      <td>S</td>\n",
       "    </tr>\n",
       "    <tr>\n",
       "      <th>3</th>\n",
       "      <td>4</td>\n",
       "      <td>1</td>\n",
       "      <td>1</td>\n",
       "      <td>Futrelle, Mrs. Jacques Heath (Lily May Peel)</td>\n",
       "      <td>female</td>\n",
       "      <td>35.0</td>\n",
       "      <td>1</td>\n",
       "      <td>0</td>\n",
       "      <td>113803</td>\n",
       "      <td>53.1000</td>\n",
       "      <td>C123</td>\n",
       "      <td>S</td>\n",
       "    </tr>\n",
       "    <tr>\n",
       "      <th>4</th>\n",
       "      <td>5</td>\n",
       "      <td>0</td>\n",
       "      <td>3</td>\n",
       "      <td>Allen, Mr. William Henry</td>\n",
       "      <td>male</td>\n",
       "      <td>35.0</td>\n",
       "      <td>0</td>\n",
       "      <td>0</td>\n",
       "      <td>373450</td>\n",
       "      <td>8.0500</td>\n",
       "      <td>NaN</td>\n",
       "      <td>S</td>\n",
       "    </tr>\n",
       "  </tbody>\n",
       "</table>\n",
       "</div>"
      ],
      "text/plain": [
       "   PassengerId  Survived  Pclass  \\\n",
       "0            1         0       3   \n",
       "1            2         1       1   \n",
       "2            3         1       3   \n",
       "3            4         1       1   \n",
       "4            5         0       3   \n",
       "\n",
       "                                                Name     Sex   Age  SibSp  \\\n",
       "0                            Braund, Mr. Owen Harris    male  22.0      1   \n",
       "1  Cumings, Mrs. John Bradley (Florence Briggs Th...  female  38.0      1   \n",
       "2                             Heikkinen, Miss. Laina  female  26.0      0   \n",
       "3       Futrelle, Mrs. Jacques Heath (Lily May Peel)  female  35.0      1   \n",
       "4                           Allen, Mr. William Henry    male  35.0      0   \n",
       "\n",
       "   Parch            Ticket     Fare Cabin Embarked  \n",
       "0      0         A/5 21171   7.2500   NaN        S  \n",
       "1      0          PC 17599  71.2833   C85        C  \n",
       "2      0  STON/O2. 3101282   7.9250   NaN        S  \n",
       "3      0            113803  53.1000  C123        S  \n",
       "4      0            373450   8.0500   NaN        S  "
      ]
     },
     "execution_count": 3,
     "metadata": {},
     "output_type": "execute_result"
    }
   ],
   "source": [
    "df.head()"
   ]
  },
  {
   "cell_type": "code",
   "execution_count": 4,
   "id": "86a4b8af",
   "metadata": {},
   "outputs": [
    {
     "data": {
      "text/plain": [
       "Index(['PassengerId', 'Survived', 'Pclass', 'Name', 'Sex', 'Age', 'SibSp',\n",
       "       'Parch', 'Ticket', 'Fare', 'Cabin', 'Embarked'],\n",
       "      dtype='object')"
      ]
     },
     "execution_count": 4,
     "metadata": {},
     "output_type": "execute_result"
    }
   ],
   "source": [
    "df.columns"
   ]
  },
  {
   "cell_type": "code",
   "execution_count": 5,
   "id": "ff0e397e",
   "metadata": {},
   "outputs": [
    {
     "data": {
      "text/plain": [
       "(891, 12)"
      ]
     },
     "execution_count": 5,
     "metadata": {},
     "output_type": "execute_result"
    }
   ],
   "source": [
    "df.shape"
   ]
  },
  {
   "cell_type": "code",
   "execution_count": 6,
   "id": "e8813246",
   "metadata": {},
   "outputs": [
    {
     "data": {
      "text/plain": [
       "0    549\n",
       "1    342\n",
       "Name: Survived, dtype: int64"
      ]
     },
     "execution_count": 6,
     "metadata": {},
     "output_type": "execute_result"
    }
   ],
   "source": [
    "df['Survived'].value_counts()"
   ]
  },
  {
   "cell_type": "code",
   "execution_count": 7,
   "id": "d3852fc8",
   "metadata": {},
   "outputs": [
    {
     "data": {
      "text/plain": [
       "male      577\n",
       "female    314\n",
       "Name: Sex, dtype: int64"
      ]
     },
     "execution_count": 7,
     "metadata": {},
     "output_type": "execute_result"
    }
   ],
   "source": [
    "df['Sex'].value_counts()"
   ]
  },
  {
   "cell_type": "code",
   "execution_count": 8,
   "id": "9ee084d0",
   "metadata": {},
   "outputs": [
    {
     "data": {
      "text/plain": [
       "S    644\n",
       "C    168\n",
       "Q     77\n",
       "Name: Embarked, dtype: int64"
      ]
     },
     "execution_count": 8,
     "metadata": {},
     "output_type": "execute_result"
    }
   ],
   "source": [
    "df['Embarked'].value_counts()\n",
    "# C = Cherbourg; Q = Queenstown; S = Southampton"
   ]
  },
  {
   "cell_type": "code",
   "execution_count": 9,
   "id": "4a9139be",
   "metadata": {},
   "outputs": [
    {
     "data": {
      "text/plain": [
       "PassengerId      0\n",
       "Survived         0\n",
       "Pclass           0\n",
       "Name             0\n",
       "Sex              0\n",
       "Age            177\n",
       "SibSp            0\n",
       "Parch            0\n",
       "Ticket           0\n",
       "Fare             0\n",
       "Cabin          687\n",
       "Embarked         2\n",
       "dtype: int64"
      ]
     },
     "execution_count": 9,
     "metadata": {},
     "output_type": "execute_result"
    }
   ],
   "source": [
    "df.isnull().sum()"
   ]
  },
  {
   "cell_type": "code",
   "execution_count": 10,
   "id": "fd551d76",
   "metadata": {},
   "outputs": [],
   "source": [
    "df = df.drop(['Cabin','PassengerId','Name','Ticket'],axis=1)"
   ]
  },
  {
   "cell_type": "code",
   "execution_count": 11,
   "id": "7dab8fd5",
   "metadata": {},
   "outputs": [
    {
     "data": {
      "text/html": [
       "<div>\n",
       "<style scoped>\n",
       "    .dataframe tbody tr th:only-of-type {\n",
       "        vertical-align: middle;\n",
       "    }\n",
       "\n",
       "    .dataframe tbody tr th {\n",
       "        vertical-align: top;\n",
       "    }\n",
       "\n",
       "    .dataframe thead th {\n",
       "        text-align: right;\n",
       "    }\n",
       "</style>\n",
       "<table border=\"1\" class=\"dataframe\">\n",
       "  <thead>\n",
       "    <tr style=\"text-align: right;\">\n",
       "      <th></th>\n",
       "      <th>Survived</th>\n",
       "      <th>Pclass</th>\n",
       "      <th>Sex</th>\n",
       "      <th>Age</th>\n",
       "      <th>SibSp</th>\n",
       "      <th>Parch</th>\n",
       "      <th>Fare</th>\n",
       "      <th>Embarked</th>\n",
       "    </tr>\n",
       "  </thead>\n",
       "  <tbody>\n",
       "    <tr>\n",
       "      <th>0</th>\n",
       "      <td>0</td>\n",
       "      <td>3</td>\n",
       "      <td>male</td>\n",
       "      <td>22.0</td>\n",
       "      <td>1</td>\n",
       "      <td>0</td>\n",
       "      <td>7.2500</td>\n",
       "      <td>S</td>\n",
       "    </tr>\n",
       "    <tr>\n",
       "      <th>1</th>\n",
       "      <td>1</td>\n",
       "      <td>1</td>\n",
       "      <td>female</td>\n",
       "      <td>38.0</td>\n",
       "      <td>1</td>\n",
       "      <td>0</td>\n",
       "      <td>71.2833</td>\n",
       "      <td>C</td>\n",
       "    </tr>\n",
       "    <tr>\n",
       "      <th>2</th>\n",
       "      <td>1</td>\n",
       "      <td>3</td>\n",
       "      <td>female</td>\n",
       "      <td>26.0</td>\n",
       "      <td>0</td>\n",
       "      <td>0</td>\n",
       "      <td>7.9250</td>\n",
       "      <td>S</td>\n",
       "    </tr>\n",
       "    <tr>\n",
       "      <th>3</th>\n",
       "      <td>1</td>\n",
       "      <td>1</td>\n",
       "      <td>female</td>\n",
       "      <td>35.0</td>\n",
       "      <td>1</td>\n",
       "      <td>0</td>\n",
       "      <td>53.1000</td>\n",
       "      <td>S</td>\n",
       "    </tr>\n",
       "    <tr>\n",
       "      <th>4</th>\n",
       "      <td>0</td>\n",
       "      <td>3</td>\n",
       "      <td>male</td>\n",
       "      <td>35.0</td>\n",
       "      <td>0</td>\n",
       "      <td>0</td>\n",
       "      <td>8.0500</td>\n",
       "      <td>S</td>\n",
       "    </tr>\n",
       "  </tbody>\n",
       "</table>\n",
       "</div>"
      ],
      "text/plain": [
       "   Survived  Pclass     Sex   Age  SibSp  Parch     Fare Embarked\n",
       "0         0       3    male  22.0      1      0   7.2500        S\n",
       "1         1       1  female  38.0      1      0  71.2833        C\n",
       "2         1       3  female  26.0      0      0   7.9250        S\n",
       "3         1       1  female  35.0      1      0  53.1000        S\n",
       "4         0       3    male  35.0      0      0   8.0500        S"
      ]
     },
     "execution_count": 11,
     "metadata": {},
     "output_type": "execute_result"
    }
   ],
   "source": [
    "df.head()"
   ]
  },
  {
   "cell_type": "code",
   "execution_count": 12,
   "id": "61eee6a2",
   "metadata": {},
   "outputs": [
    {
     "data": {
      "text/plain": [
       "<AxesSubplot:>"
      ]
     },
     "execution_count": 12,
     "metadata": {},
     "output_type": "execute_result"
    },
    {
     "data": {
      "image/png": "[encoded data removed]",
      "text/plain": [
       "<Figure size 432x288 with 1 Axes>"
      ]
     },
     "metadata": {
      "needs_background": "light"
     },
     "output_type": "display_data"
    }
   ],
   "source": [
    "# Missing value imputation - Age.\n",
    "df['Age'].hist()"
   ]
  },
  {
   "cell_type": "markdown",
   "id": "bb23436e",
   "metadata": {},
   "source": [
    "Age is rightly skewed. So, filling it will mean will not be appropriate. Hence, we can fill it with median."
   ]
  },
  {
   "cell_type": "code",
   "execution_count": 13,
   "id": "8cfac82a",
   "metadata": {},
   "outputs": [
    {
     "data": {
      "text/html": [
       "<div>\n",
       "<style scoped>\n",
       "    .dataframe tbody tr th:only-of-type {\n",
       "        vertical-align: middle;\n",
       "    }\n",
       "\n",
       "    .dataframe tbody tr th {\n",
       "        vertical-align: top;\n",
       "    }\n",
       "\n",
       "    .dataframe thead th {\n",
       "        text-align: right;\n",
       "    }\n",
       "</style>\n",
       "<table border=\"1\" class=\"dataframe\">\n",
       "  <thead>\n",
       "    <tr style=\"text-align: right;\">\n",
       "      <th></th>\n",
       "      <th>Survived</th>\n",
       "      <th>Age</th>\n",
       "      <th>SibSp</th>\n",
       "      <th>Parch</th>\n",
       "      <th>Fare</th>\n",
       "    </tr>\n",
       "    <tr>\n",
       "      <th>Pclass</th>\n",
       "      <th></th>\n",
       "      <th></th>\n",
       "      <th></th>\n",
       "      <th></th>\n",
       "      <th></th>\n",
       "    </tr>\n",
       "  </thead>\n",
       "  <tbody>\n",
       "    <tr>\n",
       "      <th>1</th>\n",
       "      <td>1</td>\n",
       "      <td>37.0</td>\n",
       "      <td>0</td>\n",
       "      <td>0</td>\n",
       "      <td>60.2875</td>\n",
       "    </tr>\n",
       "    <tr>\n",
       "      <th>2</th>\n",
       "      <td>0</td>\n",
       "      <td>29.0</td>\n",
       "      <td>0</td>\n",
       "      <td>0</td>\n",
       "      <td>14.2500</td>\n",
       "    </tr>\n",
       "    <tr>\n",
       "      <th>3</th>\n",
       "      <td>0</td>\n",
       "      <td>24.0</td>\n",
       "      <td>0</td>\n",
       "      <td>0</td>\n",
       "      <td>8.0500</td>\n",
       "    </tr>\n",
       "  </tbody>\n",
       "</table>\n",
       "</div>"
      ],
      "text/plain": [
       "        Survived   Age  SibSp  Parch     Fare\n",
       "Pclass                                       \n",
       "1              1  37.0      0      0  60.2875\n",
       "2              0  29.0      0      0  14.2500\n",
       "3              0  24.0      0      0   8.0500"
      ]
     },
     "execution_count": 13,
     "metadata": {},
     "output_type": "execute_result"
    }
   ],
   "source": [
    "df.groupby('Pclass').median()"
   ]
  },
  {
   "cell_type": "markdown",
   "id": "88e110d2",
   "metadata": {},
   "source": [
    "Median age for Class 1 is 37, Class 2 is 29 and Class 3 is 24 . Write a function to return the approx. age based on Class."
   ]
  },
  {
   "cell_type": "code",
   "execution_count": 14,
   "id": "439c7bd8",
   "metadata": {},
   "outputs": [],
   "source": [
    "def age_approx(cols):\n",
    "    age = cols[0]\n",
    "    pclass = cols[1]\n",
    "    if (pd.isnull(age)):\n",
    "        if pclass == 1:\n",
    "            return 37\n",
    "        elif pclass == 2:\n",
    "            return 29\n",
    "        elif pclass == 3:\n",
    "            return 24\n",
    "    else:\n",
    "        return age\n",
    "        \n"
   ]
  },
  {
   "cell_type": "code",
   "execution_count": 15,
   "id": "15af12b9",
   "metadata": {},
   "outputs": [],
   "source": [
    "df['Age'] = df[['Age','Pclass']].apply(age_approx,axis=1)"
   ]
  },
  {
   "cell_type": "code",
   "execution_count": 16,
   "id": "25bcfb0d",
   "metadata": {},
   "outputs": [],
   "source": [
    "df.isnull().sum()\n",
    "# Drop all the records with null values.\n",
    "df.dropna(inplace=True)"
   ]
  },
  {
   "cell_type": "code",
   "execution_count": 17,
   "id": "e00e037d",
   "metadata": {},
   "outputs": [
    {
     "data": {
      "text/plain": [
       "Survived    0\n",
       "Pclass      0\n",
       "Sex         0\n",
       "Age         0\n",
       "SibSp       0\n",
       "Parch       0\n",
       "Fare        0\n",
       "Embarked    0\n",
       "dtype: int64"
      ]
     },
     "execution_count": 17,
     "metadata": {},
     "output_type": "execute_result"
    }
   ],
   "source": [
    "df.isnull().sum()"
   ]
  },
  {
   "cell_type": "code",
   "execution_count": 18,
   "id": "7d8ce1a7",
   "metadata": {},
   "outputs": [
    {
     "data": {
      "text/plain": [
       "Survived      int64\n",
       "Pclass        int64\n",
       "Sex          object\n",
       "Age         float64\n",
       "SibSp         int64\n",
       "Parch         int64\n",
       "Fare        float64\n",
       "Embarked     object\n",
       "dtype: object"
      ]
     },
     "execution_count": 18,
     "metadata": {},
     "output_type": "execute_result"
    }
   ],
   "source": [
    "# Dtypes - Sex and Embarked are categorical. They need to be converted to numeric so that they can be passed to the machine learning algorithm. Otherwise, the algorithm throws error.\n",
    "df.dtypes\n"
   ]
  },
  {
   "cell_type": "code",
   "execution_count": 19,
   "id": "8a0fc77c",
   "metadata": {},
   "outputs": [],
   "source": [
    "df_dummies_sex = pd.get_dummies(df,columns=['Sex'])"
   ]
  },
  {
   "cell_type": "code",
   "execution_count": 20,
   "id": "f66ee32a",
   "metadata": {},
   "outputs": [],
   "source": [
    "df_dummies = pd.get_dummies(df_dummies_sex, columns=['Embarked'])"
   ]
  },
  {
   "cell_type": "code",
   "execution_count": 21,
   "id": "01c2b9e1",
   "metadata": {},
   "outputs": [],
   "source": [
    "df = df_dummies"
   ]
  },
  {
   "cell_type": "code",
   "execution_count": 22,
   "id": "4dac25df",
   "metadata": {},
   "outputs": [
    {
     "data": {
      "text/plain": [
       "<AxesSubplot:>"
      ]
     },
     "execution_count": 22,
     "metadata": {},
     "output_type": "execute_result"
    },
    {
     "data": {
      "image/png": "[encoded data removed]",
      "text/plain": [
       "<Figure size 432x288 with 2 Axes>"
      ]
     },
     "metadata": {
      "needs_background": "light"
     },
     "output_type": "display_data"
    }
   ],
   "source": [
    "# find correlation between variables\n",
    "corr_matrix = df.corr()\n",
    "sns.heatmap(corr_matrix)"
   ]
  },
  {
   "cell_type": "code",
   "execution_count": 23,
   "id": "7cb572e0",
   "metadata": {},
   "outputs": [
    {
     "data": {
      "text/plain": [
       "Survived      1.000000\n",
       "Sex_male      0.541585\n",
       "Sex_female    0.541585\n",
       "Pclass        0.335549\n",
       "Fare          0.255290\n",
       "Embarked_C    0.169966\n",
       "Embarked_S    0.151777\n",
       "Parch         0.083151\n",
       "Age           0.052051\n",
       "SibSp         0.034040\n",
       "Embarked_Q    0.004536\n",
       "Name: Survived, dtype: float64"
      ]
     },
     "execution_count": 23,
     "metadata": {},
     "output_type": "execute_result"
    }
   ],
   "source": [
    "corr_matrix['Survived'].abs().sort_values(ascending=False)"
   ]
  },
  {
   "cell_type": "code",
   "execution_count": 24,
   "id": "219bfd97",
   "metadata": {},
   "outputs": [],
   "source": [
    "X = df.drop(['Survived'],axis=1)\n",
    "y = df['Survived']"
   ]
  },
  {
   "cell_type": "code",
   "execution_count": 25,
   "id": "81a2da8f",
   "metadata": {},
   "outputs": [],
   "source": [
    "xtrain,xtest,ytrain,ytest = model_selection.train_test_split(X,y,test_size=0.2,random_state=100)"
   ]
  },
  {
   "cell_type": "code",
   "execution_count": 26,
   "id": "c7cc3677",
   "metadata": {},
   "outputs": [
    {
     "name": "stdout",
     "output_type": "stream",
     "text": [
      "(711, 10)\n",
      "(178, 10)\n",
      "(711,)\n",
      "(178,)\n"
     ]
    }
   ],
   "source": [
    "print(xtrain.shape)\n",
    "print(xtest.shape)\n",
    "print(ytrain.shape)\n",
    "print(ytest.shape)"
   ]
  },
  {
   "cell_type": "code",
   "execution_count": 27,
   "id": "46307c7e",
   "metadata": {},
   "outputs": [],
   "source": [
    "logReg = LogisticRegression()"
   ]
  },
  {
   "cell_type": "code",
   "execution_count": 28,
   "id": "f0ff4681",
   "metadata": {},
   "outputs": [
    {
     "name": "stderr",
     "output_type": "stream",
     "text": [
      "C:\\Users\\srivi\\anaconda3\\lib\\site-packages\\sklearn\\linear_model\\_logistic.py:763: ConvergenceWarning: lbfgs failed to converge (status=1):\n",
      "STOP: TOTAL NO. of ITERATIONS REACHED LIMIT.\n",
      "\n",
      "Increase the number of iterations (max_iter) or scale the data as shown in:\n",
      "    https://scikit-learn.org/stable/modules/preprocessing.html\n",
      "Please also refer to the documentation for alternative solver options:\n",
      "    https://scikit-learn.org/stable/modules/linear_model.html#logistic-regression\n",
      "  n_iter_i = _check_optimize_result(\n"
     ]
    },
    {
     "data": {
      "text/plain": [
       "LogisticRegression()"
      ]
     },
     "execution_count": 28,
     "metadata": {},
     "output_type": "execute_result"
    }
   ],
   "source": [
    "logReg.fit(xtrain,ytrain)"
   ]
  },
  {
   "cell_type": "code",
   "execution_count": 29,
   "id": "ea4ef7f0",
   "metadata": {},
   "outputs": [],
   "source": [
    "predictions = logReg.predict(xtest)"
   ]
  },
  {
   "cell_type": "code",
   "execution_count": 30,
   "id": "4a83d8e6",
   "metadata": {},
   "outputs": [
    {
     "name": "stdout",
     "output_type": "stream",
     "text": [
      "[0 1 0 1 0 1 0 0 0 1 1 1 0 1 1 0 0 0 0 0 1 1 0 0 1 1 1 0 0 0 1 1 0 0 0 0 1\n",
      " 0 0 0 0 0 1 0 0 0 0 0 0 0 0 0 0 0 0 1 0 0 1 1 0 0 0 1 1 0 1 0 0 0 0 0 1 0\n",
      " 0 0 0 0 0 1 0 0 0 1 1 0 0 1 0 1 1 0 0 0 0 0 0 1 0 0 1 0 0 0 0 0 0 0 1 0 1\n",
      " 1 0 0 0 0 0 1 0 0 0 0 1 1 0 1 1 0 0 0 1 1 0 0 0 0 0 0 1 0 1 0 1 1 1 0 0 0\n",
      " 1 0 0 0 0 0 0 1 1 1 1 1 1 0 0 1 0 1 1 1 0 1 1 1 0 0 0 0 0 0]\n"
     ]
    }
   ],
   "source": [
    "print(predictions)"
   ]
  },
  {
   "cell_type": "code",
   "execution_count": 31,
   "id": "b12b1d54",
   "metadata": {},
   "outputs": [
    {
     "data": {
      "text/plain": [
       "array([[97, 17],\n",
       "       [20, 44]], dtype=int64)"
      ]
     },
     "execution_count": 31,
     "metadata": {},
     "output_type": "execute_result"
    }
   ],
   "source": [
    "metrics.confusion_matrix(ytest,predictions)"
   ]
  },
  {
   "cell_type": "code",
   "execution_count": 32,
   "id": "7eb6cb1d",
   "metadata": {},
   "outputs": [
    {
     "data": {
      "text/plain": [
       "0.7921348314606742"
      ]
     },
     "execution_count": 32,
     "metadata": {},
     "output_type": "execute_result"
    }
   ],
   "source": [
    "metrics.accuracy_score(ytest,predictions)"
   ]
  },
  {
   "cell_type": "code",
   "execution_count": 33,
   "id": "72ec8625",
   "metadata": {},
   "outputs": [
    {
     "name": "stdout",
     "output_type": "stream",
     "text": [
      "              precision    recall  f1-score   support\n",
      "\n",
      "           0       0.83      0.85      0.84       114\n",
      "           1       0.72      0.69      0.70        64\n",
      "\n",
      "    accuracy                           0.79       178\n",
      "   macro avg       0.78      0.77      0.77       178\n",
      "weighted avg       0.79      0.79      0.79       178\n",
      "\n"
     ]
    }
   ],
   "source": [
    "print(metrics.classification_report(ytest,predictions))"
   ]
  },
  {
   "cell_type": "code",
   "execution_count": 34,
   "id": "3491b6ec",
   "metadata": {},
   "outputs": [
    {
     "data": {
      "text/plain": [
       "array([[-1.12869265e+00, -3.86969541e-02, -3.28370757e-01,\n",
       "        -2.25313776e-02,  1.62557193e-03,  2.19768532e+00,\n",
       "        -3.79412756e-01,  8.15170294e-01,  5.09550095e-01,\n",
       "         4.93552176e-01]])"
      ]
     },
     "execution_count": 34,
     "metadata": {},
     "output_type": "execute_result"
    }
   ],
   "source": [
    "logReg.coef_"
   ]
  },
  {
   "cell_type": "code",
   "execution_count": 35,
   "id": "c8f2748e",
   "metadata": {},
   "outputs": [
    {
     "data": {
      "text/plain": [
       "array([2.13589445])"
      ]
     },
     "execution_count": 35,
     "metadata": {},
     "output_type": "execute_result"
    }
   ],
   "source": [
    "logReg.intercept_"
   ]
  },
  {
   "cell_type": "code",
   "execution_count": 36,
   "id": "2eea09c0",
   "metadata": {},
   "outputs": [
    {
     "data": {
      "text/plain": [
       "array([[0.91427368, 0.08572632],\n",
       "       [0.39010849, 0.60989151],\n",
       "       [0.93581177, 0.06418823],\n",
       "       [0.42672628, 0.57327372],\n",
       "       [0.8858797 , 0.1141203 ],\n",
       "       [0.17968354, 0.82031646],\n",
       "       [0.90753205, 0.09246795],\n",
       "       [0.77781707, 0.22218293],\n",
       "       [0.88560799, 0.11439201],\n",
       "       [0.30465514, 0.69534486],\n",
       "       [0.36795867, 0.63204133],\n",
       "       [0.4605587 , 0.5394413 ],\n",
       "       [0.64208314, 0.35791686],\n",
       "       [0.29933392, 0.70066608],\n",
       "       [0.0914152 , 0.9085848 ],\n",
       "       [0.88454319, 0.11545681],\n",
       "       [0.83045931, 0.16954069],\n",
       "       [0.60343362, 0.39656638],\n",
       "       [0.65109247, 0.34890753],\n",
       "       [0.88620866, 0.11379134],\n",
       "       [0.27945561, 0.72054439],\n",
       "       [0.2678345 , 0.7321655 ],\n",
       "       [0.92527659, 0.07472341],\n",
       "       [0.95395585, 0.04604415],\n",
       "       [0.05706115, 0.94293885],\n",
       "       [0.19310329, 0.80689671],\n",
       "       [0.28470933, 0.71529067],\n",
       "       [0.88616288, 0.11383712],\n",
       "       [0.93880721, 0.06119279],\n",
       "       [0.66243668, 0.33756332],\n",
       "       [0.07145655, 0.92854345],\n",
       "       [0.32418216, 0.67581784],\n",
       "       [0.97398569, 0.02601431],\n",
       "       [0.95400757, 0.04599243],\n",
       "       [0.87388972, 0.12611028],\n",
       "       [0.86920845, 0.13079155],\n",
       "       [0.30033776, 0.69966224],\n",
       "       [0.51901304, 0.48098696],\n",
       "       [0.94454177, 0.05545823],\n",
       "       [0.65358409, 0.34641591],\n",
       "       [0.72735993, 0.27264007],\n",
       "       [0.91377974, 0.08622026],\n",
       "       [0.46405059, 0.53594941],\n",
       "       [0.7060443 , 0.2939557 ],\n",
       "       [0.88218711, 0.11781289],\n",
       "       [0.94484007, 0.05515993],\n",
       "       [0.92615918, 0.07384082],\n",
       "       [0.88616288, 0.11383712],\n",
       "       [0.91409192, 0.08590808],\n",
       "       [0.93045458, 0.06954542],\n",
       "       [0.89758952, 0.10241048],\n",
       "       [0.86513921, 0.13486079],\n",
       "       [0.93565286, 0.06434714],\n",
       "       [0.74569207, 0.25430793],\n",
       "       [0.89009213, 0.10990787],\n",
       "       [0.0836717 , 0.9163283 ],\n",
       "       [0.95508657, 0.04491343],\n",
       "       [0.61261439, 0.38738561],\n",
       "       [0.1594733 , 0.8405267 ],\n",
       "       [0.3679429 , 0.6320571 ],\n",
       "       [0.87390241, 0.12609759],\n",
       "       [0.95676844, 0.04323156],\n",
       "       [0.85598188, 0.14401812],\n",
       "       [0.26057138, 0.73942862],\n",
       "       [0.22605978, 0.77394022],\n",
       "       [0.91991415, 0.08008585],\n",
       "       [0.25548812, 0.74451188],\n",
       "       [0.91685816, 0.08314184],\n",
       "       [0.6401275 , 0.3598725 ],\n",
       "       [0.95169595, 0.04830405],\n",
       "       [0.58918802, 0.41081198],\n",
       "       [0.54743688, 0.45256312],\n",
       "       [0.18488296, 0.81511704],\n",
       "       [0.88601727, 0.11398273],\n",
       "       [0.99027941, 0.00972059],\n",
       "       [0.88614307, 0.11385693],\n",
       "       [0.75575826, 0.24424174],\n",
       "       [0.88611778, 0.11388222],\n",
       "       [0.67382251, 0.32617749],\n",
       "       [0.12436192, 0.87563808],\n",
       "       [0.81697931, 0.18302069],\n",
       "       [0.83943284, 0.16056716],\n",
       "       [0.88454319, 0.11545681],\n",
       "       [0.05186894, 0.94813106],\n",
       "       [0.03842368, 0.96157632],\n",
       "       [0.84959244, 0.15040756],\n",
       "       [0.87659093, 0.12340907],\n",
       "       [0.04225721, 0.95774279],\n",
       "       [0.90755309, 0.09244691],\n",
       "       [0.29118213, 0.70881787],\n",
       "       [0.25955566, 0.74044434],\n",
       "       [0.88843809, 0.11156191],\n",
       "       [0.75575826, 0.24424174],\n",
       "       [0.88454319, 0.11545681],\n",
       "       [0.8336183 , 0.1663817 ],\n",
       "       [0.65832108, 0.34167892],\n",
       "       [0.86957606, 0.13042394],\n",
       "       [0.39847815, 0.60152185],\n",
       "       [0.91382514, 0.08617486],\n",
       "       [0.92568108, 0.07431892],\n",
       "       [0.48601513, 0.51398487],\n",
       "       [0.85133958, 0.14866042],\n",
       "       [0.91384488, 0.08615512],\n",
       "       [0.81356456, 0.18643544],\n",
       "       [0.88624895, 0.11375105],\n",
       "       [0.64781172, 0.35218828],\n",
       "       [0.88454319, 0.11545681],\n",
       "       [0.86932313, 0.13067687],\n",
       "       [0.22183779, 0.77816221],\n",
       "       [0.89372136, 0.10627864],\n",
       "       [0.29932822, 0.70067178],\n",
       "       [0.30744147, 0.69255853],\n",
       "       [0.55624009, 0.44375991],\n",
       "       [0.64406268, 0.35593732],\n",
       "       [0.86660703, 0.13339297],\n",
       "       [0.88998939, 0.11001061],\n",
       "       [0.80593295, 0.19406705],\n",
       "       [0.43678607, 0.56321393],\n",
       "       [0.84959157, 0.15040843],\n",
       "       [0.88614307, 0.11385693],\n",
       "       [0.87215083, 0.12784917],\n",
       "       [0.63443836, 0.36556164],\n",
       "       [0.27599345, 0.72400655],\n",
       "       [0.29099625, 0.70900375],\n",
       "       [0.88454319, 0.11545681],\n",
       "       [0.31853615, 0.68146385],\n",
       "       [0.21944441, 0.78055559],\n",
       "       [0.72184719, 0.27815281],\n",
       "       [0.89334954, 0.10665046],\n",
       "       [0.58901442, 0.41098558],\n",
       "       [0.08784606, 0.91215394],\n",
       "       [0.36797916, 0.63202084],\n",
       "       [0.79953221, 0.20046779],\n",
       "       [0.54826502, 0.45173498],\n",
       "       [0.83329386, 0.16670614],\n",
       "       [0.90741801, 0.09258199],\n",
       "       [0.88454319, 0.11545681],\n",
       "       [0.66489885, 0.33510115],\n",
       "       [0.42696937, 0.57303063],\n",
       "       [0.9130889 , 0.0869111 ],\n",
       "       [0.04965664, 0.95034336],\n",
       "       [0.9440449 , 0.0559551 ],\n",
       "       [0.367924  , 0.632076  ],\n",
       "       [0.20209552, 0.79790448],\n",
       "       [0.03875896, 0.96124104],\n",
       "       [0.88614307, 0.11385693],\n",
       "       [0.78615717, 0.21384283],\n",
       "       [0.91384114, 0.08615886],\n",
       "       [0.04024072, 0.95975928],\n",
       "       [0.75575826, 0.24424174],\n",
       "       [0.81982878, 0.18017122],\n",
       "       [0.88611778, 0.11388222],\n",
       "       [0.87807128, 0.12192872],\n",
       "       [0.88614307, 0.11385693],\n",
       "       [0.93291431, 0.06708569],\n",
       "       [0.36797285, 0.63202715],\n",
       "       [0.27637571, 0.72362429],\n",
       "       [0.06197675, 0.93802325],\n",
       "       [0.28467396, 0.71532604],\n",
       "       [0.49077101, 0.50922899],\n",
       "       [0.20506817, 0.79493183],\n",
       "       [0.66574881, 0.33425119],\n",
       "       [0.91408347, 0.08591653],\n",
       "       [0.46054667, 0.53945333],\n",
       "       [0.52263999, 0.47736001],\n",
       "       [0.33250272, 0.66749728],\n",
       "       [0.37851397, 0.62148603],\n",
       "       [0.14502338, 0.85497662],\n",
       "       [0.88614307, 0.11385693],\n",
       "       [0.10122241, 0.89877759],\n",
       "       [0.04807182, 0.95192818],\n",
       "       [0.40586432, 0.59413568],\n",
       "       [0.5646494 , 0.4353506 ],\n",
       "       [0.95674826, 0.04325174],\n",
       "       [0.8740106 , 0.1259894 ],\n",
       "       [0.95376565, 0.04623435],\n",
       "       [0.88788049, 0.11211951],\n",
       "       [0.53681585, 0.46318415]])"
      ]
     },
     "execution_count": 36,
     "metadata": {},
     "output_type": "execute_result"
    }
   ],
   "source": [
    "logReg.predict_proba(xtest)"
   ]
  },
  {
   "cell_type": "code",
   "execution_count": null,
   "id": "a1460514",
   "metadata": {},
   "outputs": [],
   "source": []
  }
 ],
 "metadata": {
  "kernelspec": {
   "display_name": "Python 3",
   "language": "python",
   "name": "python3"
  },
  "language_info": {
   "codemirror_mode": {
    "name": "ipython",
    "version": 3
   },
   "file_extension": ".py",
   "mimetype": "text/x-python",
   "name": "python",
   "nbconvert_exporter": "python",
   "pygments_lexer": "ipython3",
   "version": "3.8.8"
  }
 },
 "nbformat": 4,
 "nbformat_minor": 5
}
